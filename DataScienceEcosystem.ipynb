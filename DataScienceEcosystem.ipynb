{
 "cells": [
  {
   "cell_type": "markdown",
   "id": "6a644b65-3465-4d47-8d9f-1959d89b74cf",
   "metadata": {},
   "source": [
    "<h1>Data Science Tools and Ecosystem</h1>"
   ]
  },
  {
   "cell_type": "markdown",
   "id": "84571292-40be-4fd8-863b-affb8d0e34e9",
   "metadata": {},
   "source": [
    "In this notebook, Data Science Tools and Ecosystem are summarized."
   ]
  },
  {
   "cell_type": "markdown",
   "id": "44144d6d-2a42-4690-b93f-30120595cde3",
   "metadata": {},
   "source": [
    "<b>Objectives:</b>\n",
    "<ul>\n",
    "    <li>Languages</li>\n",
    "    <li>Libraries</li>\n",
    "    <li>Tools</li>\n",
    "    \n",
    "</ul>"
   ]
  },
  {
   "cell_type": "markdown",
   "id": "269cf652-08fe-44a9-ad03-053f77cf00c0",
   "metadata": {},
   "source": [
    "Some of the popular languages that Data Scientists use are:\n",
    "<ol>\n",
    "    <li>Julia</li>\n",
    "    <li>Python</li>\n",
    "    <li>R</li>\n",
    "    \n",
    "</ol>"
   ]
  },
  {
   "cell_type": "markdown",
   "id": "3190cd26-0955-4b6a-9468-8cc43ff8baad",
   "metadata": {},
   "source": [
    "Some of the commonly used libraries used by Data Scientists include::\n",
    "<ol>\n",
    "    <li>ggplot2</li>\n",
    "    <li>Lattice</li>\n",
    "    <li>NumPy</li>\n",
    "    \n",
    "</ol>"
   ]
  },
  {
   "cell_type": "markdown",
   "id": "bee3e139-c517-4717-adc7-18baa6d245e4",
   "metadata": {},
   "source": [
    "\n",
    "| Data Science Tools |\n",
    "| ------------------ |\n",
    "| Jupyter Notebook   |\n",
    "| Jupyter Lab        |\n",
    "| RStudio            |"
   ]
  },
  {
   "cell_type": "markdown",
   "id": "b850eb4f-4f40-48b2-9ea4-b327aca826b8",
   "metadata": {},
   "source": [
    "<h3>Below are a few examples of evaluating arithmetic expressions in Python\n",
    ".</h3>"
   ]
  },
  {
   "cell_type": "code",
   "execution_count": 6,
   "id": "76a8ca3b-dcd9-4304-a4ca-66217ae2c5dc",
   "metadata": {},
   "outputs": [
    {
     "data": {
      "text/plain": [
       "17"
      ]
     },
     "execution_count": 6,
     "metadata": {},
     "output_type": "execute_result"
    }
   ],
   "source": [
    "# This a simple arithmetic expression to multiply then add integers.\n",
    "(3 * 4) + 5"
   ]
  },
  {
   "cell_type": "code",
   "execution_count": 7,
   "id": "7b78184a-4460-46bc-a706-338e4021e17c",
   "metadata": {},
   "outputs": [
    {
     "data": {
      "text/plain": [
       "3.3333333333333335"
      ]
     },
     "execution_count": 7,
     "metadata": {},
     "output_type": "execute_result"
    }
   ],
   "source": [
    "# This will convert 200 minutes to hours by diving by 60.\n",
    "200 / 60"
   ]
  },
  {
   "cell_type": "markdown",
   "id": "96f1c0da-d829-489d-b1e0-3776d8944eda",
   "metadata": {},
   "source": [
    "<h2>Author:</h2>\n",
    "HPo"
   ]
  }
 ],
 "metadata": {
  "kernelspec": {
   "display_name": "Python 3 (ipykernel)",
   "language": "python",
   "name": "python3"
  },
  "language_info": {
   "codemirror_mode": {
    "name": "ipython",
    "version": 3
   },
   "file_extension": ".py",
   "mimetype": "text/x-python",
   "name": "python",
   "nbconvert_exporter": "python",
   "pygments_lexer": "ipython3",
   "version": "3.11.9"
  }
 },
 "nbformat": 4,
 "nbformat_minor": 5
}
